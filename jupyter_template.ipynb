{
 "cells": [
  {
   "cell_type": "code",
   "execution_count": null,
   "metadata": {},
   "outputs": [],
   "source": [
    "#%matplotlib widget\n",
    "%matplotlib inline\n",
    "import matplotlib.pyplot as plt\n",
    "import numpy as np\n",
    "import sector_expts2 as se\n",
    "import xarray as xr\n",
    "import string\n",
    "import cartopy.crs as ccrs\n",
    "import MITgcmutils as mu\n",
    "import matplotlib.colors as colors\n",
    "import matplotlib.pylab as pl\n",
    "import string\n",
    "from scipy.stats import pearsonr, spearmanr\n",
    "from scipy.constants import golden\n",
    "import importlib\n",
    "import os,sys\n",
    "from IPython.display import HTML\n",
    "importlib.reload(se)\n",
    "import warnings\n",
    "warnings.filterwarnings('ignore')\n",
    "from scipy.signal import savgol_filter\n",
    "from scipy.special import legendre\n",
    "from scipy.interpolate import interp1d\n",
    "def cb_good(cb):\n",
    "    cb.formatter.set_powerlimits((0,0))\n",
    "    cb.update_ticks()\n",
    "    return cb"
   ]
  },
  {
   "cell_type": "markdown",
   "metadata": {},
   "source": [
    "### _CASENAME_\n",
    "\n",
    "Q = xxmW top, xxmW bottom\n",
    "\n",
    "with xxpsu mean ocean salinity\n",
    "\n",
    "viscosity: diffusivity:\n",
    "\n",
    "IC: Bottom is xxmK warmer than the top"
   ]
  },
  {
   "cell_type": "code",
   "execution_count": null,
   "metadata": {},
   "outputs": [],
   "source": [
    "expt=se.Experiment(name='_CASENAME_')"
   ]
  },
  {
   "cell_type": "code",
   "execution_count": null,
   "metadata": {},
   "outputs": [],
   "source": [
    "print('E='+str(expt.E))\n",
    "print('Ra='+str(expt.ra().values))\n",
    "print('RaE4/3='+str(expt.ra().values*expt.E**(4/3)))\n",
    "Ra_RaT=0.1*expt.ra()*expt.E**(3/2)\n",
    "print('Ra_RaT='+str(Ra_RaT.values))\n",
    "print('Rastar_q='+str(expt.rastarq))\n",
    "      \n",
    "print('Ro*='+str(expt.rostar))\n",
    "print('Ro_loc='+str(expt.roloc().values))\n",
    "\n",
    "print('l_rot='+str(expt.lrot))\n",
    "print('u_rot='+str(expt.urot))\n",
    "print('lu_rot='+str(expt.urot*expt.lrot))\n",
    "print('l_cone='+str(expt.lcone))\n",
    "print('u_cone='+str(expt.ucone))\n",
    "print('lu_cone='+str(expt.ucone*expt.lcone))"
   ]
  },
  {
   "cell_type": "code",
   "execution_count": null,
   "metadata": {},
   "outputs": [],
   "source": [
    "_,_,_=expt.monitor(iteration=np.NaN,pltarray=(1,1),pltvar=['q'],flip=False,dimmeths={'lon':'mean'},figsize=(12,6),wdirs=[1])"
   ]
  },
  {
   "cell_type": "code",
   "execution_count": null,
   "metadata": {},
   "outputs": [],
   "source": [
    "_,_,_=expt.monitor(iteration=np.NaN,pltarray=(1,1),pltvar=['q'],flip=False,dimmeths={'lon':'mean','lat':'mean'},figsize=(12,6),wdirs=[1])"
   ]
  },
  {
   "cell_type": "code",
   "execution_count": null,
   "metadata": {},
   "outputs": [],
   "source": [
    "_,_,_=expt.monitor(iteration=np.NaN,pltarray=(1,1),pltvar=['T'],flip=False,dimmeths={'lon':'mean','z':58},ylims=[50,80],figsize=(12,6))"
   ]
  },
  {
   "cell_type": "code",
   "execution_count": null,
   "metadata": {},
   "outputs": [],
   "source": [
    "ft,axt,dt=expt.monitor(iteration=np.Inf,dimmeths={'Time':0,'lon':'mean'})"
   ]
  },
  {
   "cell_type": "code",
   "execution_count": null,
   "metadata": {
    "scrolled": false
   },
   "outputs": [],
   "source": [
    "ft,axt,dt=expt.monitor(runpathstr=\"'./'\",iteration=np.Inf,pltarray=(4,1),\n",
    "    pltvar=['T','S','W','U'],wdirs=[0,0,1,1],dimmeths={'Time':0,'lon':'mean'},\n",
    "    figsize=(6,18), \n",
    "    pltcontour={'U':[0]},\n",
    "    cms={'T':'RdBu_r','S':'BrBG_r'},vminmax={'T':[-0.00,0.05],'S':[-6e-3,6e-3],'U':[-8e-4,8e-4]})\n",
    "axt[0].set_ylim([-expt.Htot/1e3+expt.drf[-1]/1e3+expt.Hice0/1e3*(not expt.topo),-expt.Hice0/1e3*(not expt.topo)+expt.Hice0/1e3*(not expt.topo)])\n"
   ]
  },
  {
   "cell_type": "code",
   "execution_count": null,
   "metadata": {},
   "outputs": [],
   "source": [
    "f,ax,d=expt.monitor(iteration=np.Inf,pltarray=(1,3),pltvar=['T','W','U'],wdirs=[1,1,1]\n",
    "                    ,dimmeths={'z':20,'Time':0,'lon':'anom'},figsize=(12,12),\n",
    "                    labelorientation='vertical',labelaspect=30,labelpad=0.15,labelshrink=0.8)"
   ]
  },
  {
   "cell_type": "code",
   "execution_count": null,
   "metadata": {},
   "outputs": [],
   "source": [
    "f,ax,d=expt.monitor(iteration=np.Inf,pltarray=(1,3),\n",
    "      pltvar=['T','W','U'],wdirs=[1,1,1],dimmeths={'lat':0.,'Time':0,'lon':'anom'},vminmax={'T':[-4e-4,4e-4]},\n",
    "    figsize=(14,12),labelorientation='vertical',labelaspect=30,labelpad=0.15,labelshrink=0.8)"
   ]
  },
  {
   "cell_type": "code",
   "execution_count": null,
   "metadata": {},
   "outputs": [],
   "source": [
    "with plt.style.context(('labelsize15')):\n",
    "    fig, ax = plt.subplots(1,1, figsize=(4,12))\n",
    "    \n",
    "    xskip, zskip = 1,2\n",
    "    \n",
    "    xfull=d['T'].lon.values\n",
    "    zfull=d['T'].z.values/1000+expt.Hice0/1e3\n",
    "    x = xfull[::xskip]\n",
    "    z = zfull[::zskip]\n",
    "    crng=abs(d['T']).max()/1.2\n",
    "    im = ax.pcolormesh(zfull,xfull,d['T'].values.transpose(),cmap='RdBu_r',vmin=-crng,vmax=crng)\n",
    "    cb = fig.colorbar(im,shrink=0.8,aspect=30,pad=0.12,orientation='vertical')\n",
    "    cb.formatter.set_powerlimits((0,0))\n",
    "    cb.update_ticks()\n",
    "    ax.set_title('T (shading) U,W (quiver)')\n",
    "    Q=ax.quiver(z,x, d['W'].values.squeeze()[::zskip,::xskip].transpose(),\n",
    "                   d['U'].values.squeeze()[::zskip,::xskip].transpose(),scale=0.005,width=0.005)\n",
    "    ax.set_xlim([zfull[-1],0])\n",
    "    ax.set_yticks(np.arange(0,21,5))\n",
    "    \n",
    "    ax.set_xlabel('z (km)')\n",
    "    ax.set_ylabel('Lon ($^{\\circ}$)')\n",
    "    ax.quiverkey(Q, 1.24, 0.05, 1e-3, \n",
    "             r'1 mm/s',fontproperties={'size':14}) "
   ]
  },
  {
   "cell_type": "code",
   "execution_count": null,
   "metadata": {},
   "outputs": [],
   "source": [
    "_,runp=expt.get_runpath(expt.itermax)\n",
    "runp='./'\n",
    "iters=mu.mds.scanforfiles(expt.path+runp+\"W\")\n",
    "iters=iters[1:-1:3]\n",
    "\n",
    "with plt.style.context(('labelsize15')):\n",
    "    fig, ax = plt.subplots(2,1, figsize=(5,9),gridspec_kw={'height_ratios': [1,3]},sharex=True)\n",
    "    \n",
    "    xskip, zskip = 20,15\n",
    "    d=expt.get(['T','S','W','V','q'],runpathstr=\"''\",iteration=np.Inf,dimmeths={'lon':0})\n",
    "    imq=[ax[0].plot(d['q'].lat,d['q'].squeeze(),color='k',lw=2)]\n",
    "    ax[0].set_ylabel('q (km/My)')\n",
    "    ax[0].set_title('day {}'.format(np.int(d['q'].Time.squeeze().values)))\n",
    "    d['T']=d['T']-expt.Tref\n",
    "    d['S']=d['S']-expt.Sref\n",
    "    xfull=d['T'].lat.values\n",
    "    zfull=d['T'].z.values/1000\n",
    "    d['T']['z']=zfull\n",
    "    d['S']['z']=zfull\n",
    "    x = xfull[::xskip]\n",
    "    z = zfull[::zskip]\n",
    "    imT=d['T'].plot(add_colorbar=False, add_labels=False, ax=ax[1],cmap='RdBu_r',vmin=-1e-2,vmax=3e-2)\n",
    "    #imS=d['S'].plot.contour(add_colorbar=False, add_labels=False, ax=ax[1],levels=[-1e-3,-1e-4,1e-4,1e-3],colors='k',zorder=0)\n",
    "    imS=[ax[1].contour(xfull,zfull,d['S'].values.squeeze(),colors='k',levels=[-1e-3,-1e-4,1e-4,1e-3])]\n",
    "    cb = fig.colorbar(imT,shrink=0.8,aspect=30,pad=0.16,orientation='horizontal')\n",
    "    cb.formatter.set_powerlimits((0,0))\n",
    "    cb.update_ticks()\n",
    "    ax[1].set_title('T (shading) S (contour) V,W (quiver)')\n",
    "    Q=ax[1].quiver(x,z, d['V'].values.squeeze()[::zskip,::xskip],\n",
    "                   d['W'].values.squeeze()[::zskip,::xskip],scale=0.05)\n",
    "    ax[1].set_ylim([zfull[-1],0])\n",
    "    ax[1].set_xticks(np.arange(0,x[-1]+0.1,5000))\n",
    "    ax[1].set_xticklabels(np.arange(0,x[-1]+0.1,5000)/1000)\n",
    "    \n",
    "    ax[1].set_xlabel('y (km)')\n",
    "    ax[1].set_ylabel('z (km)')\n",
    "    ax[1].quiverkey(Q, 0., -0.25, 3e-3, \n",
    "             r'3 mm/s',fontproperties={'size':14}) \n",
    "    \n",
    "    def animate(i):\n",
    "        blockPrint()\n",
    "        d=expt.get(['T','S','W','V','q'],runpathstr=\"''\",iteration=iters[i],dimmeths={'lon':0})\n",
    "        for tp in ax[0].lines+ax[0].collections:\n",
    "            tp.remove()\n",
    "        imq[0]=[ax[0].plot(d['q'].lat,d['q'].squeeze(),color='k',lw=2)]\n",
    "        ax[0].set_title('day {}'.format(np.int(d['q'].Time.squeeze().values)))\n",
    "        d['T']=d['T']-expt.Tref\n",
    "        d['S']=d['S']-expt.Sref\n",
    "        d['T']['z']=zfull\n",
    "        d['S']['z']=zfull\n",
    "        imT.set_array(d['T'].values.ravel(order='C'))\n",
    "        for tp in imS[0].collections:\n",
    "            tp.remove()\n",
    "        imS[0]=ax[1].contour(xfull,zfull,d['S'].values.squeeze(),colors='k',levels=[-3e-2,-1e-2,-1e-3,-3e-4,3e-4,1e-3,1e-2,3e-2])\n",
    "        Q.set_UVC(d['V'].values.squeeze()[::zskip,::xskip],\n",
    "                 d['W'].values.squeeze()[::zskip,::xskip])\n",
    "        return imT,Q\n",
    "    def blockPrint():\n",
    "        sys.stdout = open(os.devnull, 'w')\n",
    "    \n",
    "    ani=animation.FuncAnimation(fig, animate, frames=len(iters), blit=True)"
   ]
  },
  {
   "cell_type": "code",
   "execution_count": null,
   "metadata": {},
   "outputs": [],
   "source": [
    "HTML(ani.to_jshtml())\n"
   ]
  },
  {
   "cell_type": "code",
   "execution_count": null,
   "metadata": {},
   "outputs": [],
   "source": [
    "HTML(ani.to_html5_video())"
   ]
  },
  {
   "cell_type": "code",
   "execution_count": null,
   "metadata": {},
   "outputs": [],
   "source": []
  },
  {
   "cell_type": "code",
   "execution_count": null,
   "metadata": {},
   "outputs": [],
   "source": [
    "_,ax,d=expt.monitor(runpathstr=\"'/'\",iteration=np.Inf,sample=1,pltarray=(3,1),pltvar=['q','bulk_heatflux_y','heatflux_surf'],dimmeths={'Time':'mean','lon':'mean'},figsize=(5,10),sharey=False,wdirs=[1,0,0])\n",
    "adv=expt.bulk_heatflux_y_adv(runpath='/',iteration=np.Inf,sample=1)\n",
    "ax[1].plot(adv.lat[::10]/1e3,adv[::10],'r--^',linewidth=1)\n",
    "dif=expt.bulk_heatflux_y_dif(runpath='/',iteration=np.Inf,sample=1)\n",
    "ax[1].plot(dif.lat[::10]/1e3,dif[::10],'b--o',linewidth=1)\n",
    "ax[1].legend(['total','advective','diffusive'])\n",
    "ax[1].plot(adv.lat,adv.lat*0,'k--')\n",
    "#bndthickness=expt.hfacc.where(expt.hfacc!=1,0).max(dim='z').squeeze()\n",
    "#ax[2].plot(bndthickness.lat,bndthickness-0.5,'b--')"
   ]
  },
  {
   "cell_type": "code",
   "execution_count": null,
   "metadata": {},
   "outputs": [],
   "source": [
    "Hy=expt.bulk_heatflux_y(runpath='',iteration=np.NaN,sample=1)\n",
    "Hy_smt=savgol_filter(Hy[1:], 13, 1,axis=0).squeeze()\n",
    "Hy=Hy[1:].values\n",
    "\n",
    "Hconv=-1e6*(Hy[1:]-Hy[:-1])/expt.dyc[1:-1,0].squeeze()+expt.Q[1:-1]\n",
    "Hconv=-1e6*(Hy_smt[1:]-Hy_smt[:-1])/expt.dyc[1:-1,0].squeeze()+expt.Q[1:-1]\n",
    "H_surf=expt.heatflux_surf(runpath='',iteration=np.NaN,sample=1).mean('lon').mean('Time').squeeze()\n",
    "q=expt.q(runpath='',iteration=np.NaN,sample=1,inmassunit=True).mean('lon').squeeze().values\n",
    "Hlatent=expt.lf*q\n",
    "\n",
    "\n",
    "with plt.style.context(('labelsize15')):\n",
    "    f,ax=plt.subplots(1,1,figsize=[5,4],sharex=True)\n",
    "    \n",
    "    ax.plot(H_surf.lat[1:-1]/1e3,Hconv,'r-')\n",
    "    ax.plot(H_surf.lat[1:-1]/1e3,H_surf[1:-1],'k--')\n",
    "    ax.set_title('Ice-ocean heat exchange (W/m$^2$)')\n",
    "    ax.set_xlabel('y (km)')"
   ]
  },
  {
   "cell_type": "code",
   "execution_count": null,
   "metadata": {},
   "outputs": [],
   "source": []
  },
  {
   "cell_type": "code",
   "execution_count": null,
   "metadata": {},
   "outputs": [],
   "source": [
    "varlist=['T','S','Rho','U','V','W','Psi']\n",
    "d=expt.get(varlist,runnum=np.Inf,iteration=np.NaN,sample=3)"
   ]
  },
  {
   "cell_type": "code",
   "execution_count": null,
   "metadata": {},
   "outputs": [],
   "source": [
    "fig,axf,dmeanxt,figname=se.my2dplt(expt,d,(3,2),pltvar=['T','S','Rho','U','W','Psi'],\n",
    "            dimmeths={'Time':'mean','lon':'mean'},flip=True,wdirs=[0,0,0,1,1,1],\n",
    "            figsize=(12,12),projection=None,pltdir='F',\n",
    "            savefig=0,labelorientation=None,xlabelpad=0,ylabelpad=20)"
   ]
  },
  {
   "cell_type": "code",
   "execution_count": null,
   "metadata": {},
   "outputs": [],
   "source": [
    "_,_,_,_=se.my2dplt(expt,d,pltarray=(1,2),pltvar=['q','bulk_heatflux_y'],dimmeths={'Time':0,'lon':'mean'},figsize=(10,3.4),sharey=False,wdirs=[1,1])"
   ]
  },
  {
   "cell_type": "code",
   "execution_count": null,
   "metadata": {},
   "outputs": [],
   "source": [
    "fig,axf,dmeanxt,figname=se.my2dplt(expt,d,(3,2),pltvar=['T','S','Rho','U','W','Psi'],\n",
    "            dimmeths={'z':30,'lon':'mean'},flip=True,wdirs=[0,0,0,1,1,1],\n",
    "            figsize=(12,12),projection=None,pltdir='F',\n",
    "            savefig=0,labelorientation=None,xlabelpad=0,ylabelpad=20)"
   ]
  },
  {
   "cell_type": "code",
   "execution_count": null,
   "metadata": {},
   "outputs": [],
   "source": [
    "fig,axf,dmeanxt,figname=se.my2dplt(expt,d,(1,3),pltvar=['T','U','W'],\n",
    "            dimmeths={'z':7,'Time':np.Inf},flip=True,wdirs=[0,1,1],\n",
    "            figsize=(12,12),projection='sphere',pltdir='F',\n",
    "            savefig=0,labelorientation=None,xlabelpad=0,ylabelpad=20)"
   ]
  },
  {
   "cell_type": "code",
   "execution_count": null,
   "metadata": {},
   "outputs": [],
   "source": [
    "varlist=['T','S','Rho','U','V','W','Psi','q','bulk_heatflux_y']\n",
    "d0=expt.get(varlist,runnum=0,iteration=2160,sample=3)"
   ]
  },
  {
   "cell_type": "code",
   "execution_count": null,
   "metadata": {},
   "outputs": [],
   "source": [
    "fig,axf,dmeanxt0,figname=se.my2dplt(expt,d0,(3,2),pltvar=['T','S','Rho','U','W','Psi'],\n",
    "            dimmeths={'Time':0,'lon':'mean'},flip=True,wdirs=[0,0,0,1,1,1],\n",
    "            figsize=(12,12),projection=None,pltdir='F',\n",
    "            savefig=0,labelorientation=None,xlabelpad=0,ylabelpad=20)"
   ]
  },
  {
   "cell_type": "code",
   "execution_count": null,
   "metadata": {},
   "outputs": [],
   "source": [
    "_,_,_,_=se.my2dplt(expt,d0,pltarray=(1,2),pltvar=['q','bulk_heatflux_y'],dimmeths={'Time':0,'lon':'mean'},figsize=(10,3.4),sharey=False,wdirs=[1,1])"
   ]
  },
  {
   "cell_type": "code",
   "execution_count": null,
   "metadata": {},
   "outputs": [],
   "source": [
    "fig,axf,dmeanxt0,figname=se.my2dplt(expt,d0,(3,2),pltvar=['T','S','Rho','U','W','Psi'],\n",
    "            dimmeths={'Time':100,'lon':'mean'},flip=True,wdirs=[0,0,0,1,1,1],\n",
    "            figsize=(12,12),projection=None,pltdir='F',\n",
    "            savefig=0,labelorientation=None,xlabelpad=0,ylabelpad=20)"
   ]
  },
  {
   "cell_type": "code",
   "execution_count": null,
   "metadata": {},
   "outputs": [],
   "source": [
    "fig,axf,dmeanxt0,figname=se.my2dplt(expt,d0,(3,2),pltvar=['T','S','Rho','U','W','Psi'],\n",
    "            dimmeths={'Time':np.Inf,'lon':'mean'},flip=True,wdirs=[0,0,0,1,1,1],\n",
    "            figsize=(12,12),projection=None,pltdir='F',\n",
    "            savefig=0,labelorientation=None,xlabelpad=0,ylabelpad=20)"
   ]
  },
  {
   "cell_type": "code",
   "execution_count": null,
   "metadata": {},
   "outputs": [],
   "source": []
  },
  {
   "cell_type": "code",
   "execution_count": null,
   "metadata": {},
   "outputs": [],
   "source": []
  },
  {
   "cell_type": "code",
   "execution_count": null,
   "metadata": {},
   "outputs": [],
   "source": []
  }
 ],
 "metadata": {
  "kernelspec": {
   "display_name": "Python 3",
   "language": "python",
   "name": "python3"
  },
  "language_info": {
   "codemirror_mode": {
    "name": "ipython",
    "version": 3
   },
   "file_extension": ".py",
   "mimetype": "text/x-python",
   "name": "python",
   "nbconvert_exporter": "python",
   "pygments_lexer": "ipython3",
   "version": "3.7.9"
  }
 },
 "nbformat": 4,
 "nbformat_minor": 2
}
